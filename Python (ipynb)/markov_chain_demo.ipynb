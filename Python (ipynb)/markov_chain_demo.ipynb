{
 "cells": [
  {
   "cell_type": "code",
   "execution_count": 1,
   "metadata": {
    "collapsed": false
   },
   "outputs": [
   ],
   "source": [
    "import numpy as np\n",
    "import random as rd"
   ]
  },
  {
   "cell_type": "markdown",
   "metadata": {
    "collapsed": false
   },
   "source": [
    "## MONTE CARLO:\n",
    "### simulating an individual via the branching pattern (like Coding Lab 2, except that the probability depends on current state) -- gives results for individual meals, or add up the individual meals to approximate the long-term probabilities of each."
   ]
  },
  {
   "cell_type": "code",
   "execution_count": 2,
   "metadata": {
    "collapsed": false
   },
   "outputs": [
    {
     "name": "stdout",
     "output_type": "stream",
     "text": [
      "0.546 0.454\n"
     ]
    }
   ],
   "source": [
    "N = 1000 # number of meals to simulate -- use large N if you want to generate long-term averages.\n",
    "state = 0 # use 0 for pasta, 1 for salad\n",
    "# print(state)\n",
    "\n",
    "numP = 0\n",
    "numS = 0\n",
    "\n",
    "for i in range(N):\n",
    "    if state == 0: # if pasta, use the pasta probabilities\n",
    "        x = rd.uniform(0,1)\n",
    "        if x < 0.7:\n",
    "            nextstate = 0 # next pasta\n",
    "            numP += 1\n",
    "        else:\n",
    "            nextstate = 1 # next salad\n",
    "            numS += 1\n",
    "    else: # if salad, use the salad probabilities\n",
    "        x = rd.uniform(0,1)\n",
    "        if x < 0.6:\n",
    "            nextstate = 1 # next salad\n",
    "            numS += 1\n",
    "        else:\n",
    "            nextstate = 0 # next pasta\n",
    "            numP += 1\n",
    "    \n",
    "    # print(nextstate)\n",
    "    state = nextstate # setup for next iteration\n",
    "\n",
    "print(numP/N, numS/N) # if N is large, this should approximate the long-term probabilities of P and S"
   ]
  },
  {
   "cell_type": "code",
   "execution_count": 0,
   "metadata": {
    "collapsed": false
   },
   "outputs": [
   ],
   "source": [
   ]
  },
  {
   "cell_type": "markdown",
   "metadata": {
    "collapsed": false
   },
   "source": [
    "## MARKOV CHAIN:\n",
    "### setting up the dynamical system and iterating it so that it approaches the stable fixed-point (which should represent the long-term probabilities of each meal)"
   ]
  },
  {
   "cell_type": "code",
   "execution_count": 3,
   "metadata": {
    "collapsed": false
   },
   "outputs": [
    {
     "name": "stdout",
     "output_type": "stream",
     "text": [
      "0.5714285714435143 0.4285714285564849\n"
     ]
    }
   ],
   "source": [
    "p = 1 # initial condition: probability of state P\n",
    "s = 0 # initial condition: probability of state S\n",
    "\n",
    "iterates = 20\n",
    "for i in range(iterates):\n",
    "    # note that we actually have to store these \"new\" variables in Python so that the P and S values update at the \"same\" time.\n",
    "    pnew = 0.7*p + 0.4*s\n",
    "    snew = 0.3*p + 0.6*s\n",
    "    \n",
    "    p = pnew\n",
    "    s = snew\n",
    "    \n",
    "print(p,s)"
   ]
  },
  {
   "cell_type": "code",
   "execution_count": 4,
   "metadata": {
    "collapsed": false
   },
   "outputs": [
    {
     "name": "stdout",
     "output_type": "stream",
     "text": [
      "0.5714285714285714 0.42857142857142855\n"
     ]
    }
   ],
   "source": [
    "# for comparison, our exact fixed point values (from solving the equations)\n",
    "print(4/7, 3/7)"
   ]
  },
  {
   "cell_type": "code",
   "execution_count": 0,
   "metadata": {
    "collapsed": false
   },
   "outputs": [
   ],
   "source": [
   ]
  },
  {
   "cell_type": "markdown",
   "metadata": {
    "collapsed": false
   },
   "source": [
    "## MARKOV CHAIN:\n",
    "### the optional matrix/vector notation from linear algebra."
   ]
  },
  {
   "cell_type": "code",
   "execution_count": 5,
   "metadata": {
    "collapsed": false
   },
   "outputs": [
   ],
   "source": [
    "# input the matrix of transition probabilities as we defined it\n",
    "A = ([0.7,0.4],[0.3,0.6])"
   ]
  },
  {
   "cell_type": "code",
   "execution_count": 6,
   "metadata": {
    "collapsed": false
   },
   "outputs": [
   ],
   "source": [
    "x = ([1],[0]) # vector of probabilities on night 1 -- let's assume we know that Becky eats pasta, so P=1 and S=0"
   ]
  },
  {
   "cell_type": "code",
   "execution_count": 7,
   "metadata": {
    "collapsed": false
   },
   "outputs": [
    {
     "name": "stdout",
     "output_type": "stream",
     "text": [
      "[[0.57142857]\n",
      " [0.42857143]]\n"
     ]
    }
   ],
   "source": [
    "iterates = 20\n",
    "for i in range(iterates):\n",
    "    x = np.dot(A,x) # each iteration is x_{n+1}=A*x_{n}\n",
    "print(x)"
   ]
  },
  {
   "cell_type": "code",
   "execution_count": 8,
   "metadata": {
    "collapsed": false
   },
   "outputs": [
    {
     "name": "stdout",
     "output_type": "stream",
     "text": [
      "[0.5714285714285714] [0.42857142857142855]\n"
     ]
    }
   ],
   "source": [
    "# again, for comparison:\n",
    "print([4/7],[3/7])"
   ]
  },
  {
   "cell_type": "code",
   "execution_count": 0,
   "metadata": {
    "collapsed": false
   },
   "outputs": [
   ],
   "source": [
   ]
  }
 ],
 "metadata": {
  "kernelspec": {
   "display_name": "Python 3 (system-wide)",
   "language": "python",
   "metadata": {
    "cocalc": {
     "description": "Python 3 programming language",
     "priority": 100,
     "url": "https://www.python.org/"
    }
   },
   "name": "python3"
  },
  "language_info": {
   "codemirror_mode": {
    "name": "ipython",
    "version": 3
   },
   "file_extension": ".py",
   "mimetype": "text/x-python",
   "name": "python",
   "nbconvert_exporter": "python",
   "pygments_lexer": "ipython3",
   "version": "3.6.9"
  }
 },
 "nbformat": 4,
 "nbformat_minor": 4
}
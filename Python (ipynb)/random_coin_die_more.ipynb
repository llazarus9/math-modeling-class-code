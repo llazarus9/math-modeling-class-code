{
 "cells": [
  {
   "cell_type": "code",
   "execution_count": 3,
   "metadata": {
    "collapsed": false
   },
   "outputs": [
   ],
   "source": [
    "from random import randint,random,uniform"
   ]
  },
  {
   "cell_type": "code",
   "execution_count": 4,
   "metadata": {
    "collapsed": false
   },
   "outputs": [
    {
     "data": {
      "text/plain": [
       "6"
      ]
     },
     "execution_count": 4,
     "metadata": {
     },
     "output_type": "execute_result"
    }
   ],
   "source": [
    "randint(1,6)  # rolling a die; equally-probable integers (start,end) - inclusive"
   ]
  },
  {
   "cell_type": "code",
   "execution_count": 5,
   "metadata": {
    "collapsed": false
   },
   "outputs": [
    {
     "data": {
      "text/plain": [
       "0.4415978261231265"
      ]
     },
     "execution_count": 5,
     "metadata": {
     },
     "output_type": "execute_result"
    }
   ],
   "source": [
    "random() # uniform continuous distribution on 0 < x < 1"
   ]
  },
  {
   "cell_type": "code",
   "execution_count": 6,
   "metadata": {
    "collapsed": false
   },
   "outputs": [
    {
     "data": {
      "text/plain": [
       "9.397241267441002"
      ]
     },
     "execution_count": 6,
     "metadata": {
     },
     "output_type": "execute_result"
    }
   ],
   "source": [
    "uniform(0,10) # uniform continuous distribution start < x < end"
   ]
  },
  {
   "cell_type": "code",
   "execution_count": 7,
   "metadata": {
    "collapsed": false
   },
   "outputs": [
    {
     "name": "stdout",
     "output_type": "stream",
     "text": [
      "rolled a 3\n"
     ]
    }
   ],
   "source": [
    "# the unfair die example - cumulative probabilities define interval ranges for each outcome\n",
    "x = random()\n",
    "if x < 1/5:  # 20% chance\n",
    "    print('rolled a 1')\n",
    "elif x < 3/5:  # 1/5 < x < 3/5, 40% chance\n",
    "    print('rolled a 2')\n",
    "elif x < 9/10:  # 3/5 < x < 9/10, 30% chance\n",
    "    print('rolled a 3')\n",
    "else:  # x > 9/10, 10% chance\n",
    "    print('rolled a 4')"
   ]
  },
  {
   "cell_type": "code",
   "execution_count": 8,
   "metadata": {
    "collapsed": false
   },
   "outputs": [
    {
     "name": "stdout",
     "output_type": "stream",
     "text": [
      "14 46 29 11\n",
      "1350\n"
     ]
    }
   ],
   "source": [
    "N = 100  # play N times - law of large numbers will average things out?\n",
    "\n",
    "# initialize counters for how many times each number is rolled\n",
    "roll1 = 0\n",
    "roll2 = 0\n",
    "roll3 = 0\n",
    "roll4 = 0\n",
    "\n",
    "money = 100  # casino game? how much do we start with.\n",
    "\n",
    "for i in range(N): # range makes a list starting at 0, ends at N-1; i is a variable that steps through the list\n",
    "    \n",
    "    # roll the die (probabilistic) and perform deterministic process (money won/lost) accordingly\n",
    "    x = random()\n",
    "    \n",
    "    # cumulative probabilities define the interval ranges for each outcome\n",
    "    if x < 1/5:\n",
    "        roll1 = roll1 + 1\n",
    "        money = money - 10\n",
    "    elif x < 3/5:\n",
    "        roll2 = roll2 + 1\n",
    "    elif x < 9/10:\n",
    "        roll3 = roll3 + 1\n",
    "        money = money + 10\n",
    "    else:\n",
    "        roll4 = roll4 + 1\n",
    "        money = money + 100\n",
    "\n",
    "print(roll1,roll2,roll3,roll4)  # these should be close to the appropriate percentage of the total rolls\n",
    "print(money)"
   ]
  },
  {
   "cell_type": "code",
   "execution_count": 9,
   "metadata": {
    "collapsed": false
   },
   "outputs": [
   ],
   "source": [
    "from random import normalvariate, expovariate"
   ]
  },
  {
   "cell_type": "code",
   "execution_count": 10,
   "metadata": {
    "collapsed": false
   },
   "outputs": [
    {
     "data": {
      "text/plain": [
       "10.689317868175117"
      ]
     },
     "execution_count": 10,
     "metadata": {
     },
     "output_type": "execute_result"
    }
   ],
   "source": [
    "normalvariate(10,2)  # bell curve (average, standard deviation)"
   ]
  },
  {
   "cell_type": "code",
   "execution_count": 11,
   "metadata": {
    "collapsed": false
   },
   "outputs": [
    {
     "data": {
      "text/plain": [
       "2.876874241883879"
      ]
     },
     "execution_count": 11,
     "metadata": {
     },
     "output_type": "execute_result"
    }
   ],
   "source": [
    "expovariate(1/10)  # exponential \"wait-time\" distribution (rate parameter or 1/(average time between events))"
   ]
  },
  {
   "cell_type": "code",
   "execution_count": 0,
   "metadata": {
    "collapsed": false
   },
   "outputs": [
   ],
   "source": [
   ]
  }
 ],
 "metadata": {
  "kernelspec": {
   "display_name": "Python 3 (system-wide)",
   "language": "python",
   "metadata": {
    "cocalc": {
     "description": "Python 3 programming language",
     "priority": 100,
     "url": "https://www.python.org/"
    }
   },
   "name": "python3"
  },
  "language_info": {
   "codemirror_mode": {
    "name": "ipython",
    "version": 3
   },
   "file_extension": ".py",
   "mimetype": "text/x-python",
   "name": "python",
   "nbconvert_exporter": "python",
   "pygments_lexer": "ipython3",
   "version": "3.6.9"
  }
 },
 "nbformat": 4,
 "nbformat_minor": 4
}